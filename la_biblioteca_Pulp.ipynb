{
 "cells": [
  {
   "cell_type": "markdown",
   "metadata": {},
   "source": [
    "Veremos un ejemplo de usar la biblioteca pulp para resolver problemas de programació lineal. El problema es: Maximizar $2x+y$ sujeto a las restricciones: $4x+y\\leq 150$, $2x-3y\\leq -40$, $x.y\\geq 0$"
   ]
  },
  {
   "cell_type": "code",
   "execution_count": 1,
   "metadata": {},
   "outputs": [],
   "source": [
    "from pulp import *\n",
    "x = LpVariable(\"x\", 0)\n",
    "y = LpVariable(\"y\", 0)\n",
    "prob = LpProblem(\"Ejemplo\", LpMaximize)\n",
    "prob += 4*x + y <= 150\n",
    "prob += 2*x - 3*y <= -40\n",
    "prob += 2*x +y "
   ]
  },
  {
   "cell_type": "code",
   "execution_count": 2,
   "metadata": {},
   "outputs": [
    {
     "data": {
      "text/plain": [
       "Ejemplo:\n",
       "MAXIMIZE\n",
       "2*x + 1*y + 0\n",
       "SUBJECT TO\n",
       "_C1: 4 x + y <= 150\n",
       "\n",
       "_C2: 2 x - 3 y <= -40\n",
       "\n",
       "VARIABLES\n",
       "x Continuous\n",
       "y Continuous"
      ]
     },
     "execution_count": 2,
     "metadata": {},
     "output_type": "execute_result"
    }
   ],
   "source": [
    "prob "
   ]
  },
  {
   "cell_type": "code",
   "execution_count": 4,
   "metadata": {},
   "outputs": [
    {
     "data": {
      "text/plain": [
       "(0.0, 150.0)"
      ]
     },
     "execution_count": 4,
     "metadata": {},
     "output_type": "execute_result"
    }
   ],
   "source": [
    "status = prob.solve()\n",
    "value(x), value(y)"
   ]
  },
  {
   "cell_type": "code",
   "execution_count": 6,
   "metadata": {},
   "outputs": [
    {
     "data": {
      "text/plain": [
       "(150.0, 'Optimal')"
      ]
     },
     "execution_count": 6,
     "metadata": {},
     "output_type": "execute_result"
    }
   ],
   "source": [
    "value(prob.objective), LpStatus[prob.status]"
   ]
  },
  {
   "cell_type": "markdown",
   "metadata": {},
   "source": [
    "Ejercicios de la lista del día lunes 27 de Enero de 2020"
   ]
  },
  {
   "cell_type": "markdown",
   "metadata": {},
   "source": [
    "Ejercicio 1: Maximizar $2x+2y$ \n",
    "sujeto a las restricciones: $2x+y\\leq 4$, $-x-2y\\geq -5$"
   ]
  },
  {
   "cell_type": "code",
   "execution_count": 13,
   "metadata": {},
   "outputs": [],
   "source": [
    "from pulp import *\n",
    "x = LpVariable(\"x\", 0)\n",
    "y = LpVariable(\"y\", 0)\n",
    "prob = LpProblem(\"Ejercicio 1\", LpMaximize)\n",
    "prob += 2*x + y <= 4\n",
    "prob += -x - 2*y >= -5\n",
    "prob += 2*x + 2*y"
   ]
  },
  {
   "cell_type": "code",
   "execution_count": 14,
   "metadata": {},
   "outputs": [
    {
     "data": {
      "text/plain": [
       "Ejercicio_1:\n",
       "MAXIMIZE\n",
       "2*x + 2*y + 0\n",
       "SUBJECT TO\n",
       "_C1: 2 x + y <= 4\n",
       "\n",
       "_C2: - x - 2 y >= -5\n",
       "\n",
       "VARIABLES\n",
       "x Continuous\n",
       "y Continuous"
      ]
     },
     "execution_count": 14,
     "metadata": {},
     "output_type": "execute_result"
    }
   ],
   "source": [
    "prob"
   ]
  },
  {
   "cell_type": "code",
   "execution_count": 15,
   "metadata": {},
   "outputs": [
    {
     "data": {
      "text/plain": [
       "(1.0, 2.0)"
      ]
     },
     "execution_count": 15,
     "metadata": {},
     "output_type": "execute_result"
    }
   ],
   "source": [
    "status = prob.solve()\n",
    "value(x), value(y)"
   ]
  },
  {
   "cell_type": "code",
   "execution_count": 16,
   "metadata": {},
   "outputs": [
    {
     "data": {
      "text/plain": [
       "(6.0, 'Optimal')"
      ]
     },
     "execution_count": 16,
     "metadata": {},
     "output_type": "execute_result"
    }
   ],
   "source": [
    "value(prob.objective), LpStatus[prob.status]"
   ]
  },
  {
   "cell_type": "markdown",
   "metadata": {},
   "source": [
    "Ejercicio 2: Minimizar $-5x-y$ \n",
    "sujeto a las restricciones: $3x+y\\leq 7$, $-x-y\\geq -3$, $-x-2y\\geq -5$"
   ]
  },
  {
   "cell_type": "code",
   "execution_count": 19,
   "metadata": {},
   "outputs": [],
   "source": [
    "from pulp import *\n",
    "x = LpVariable(\"x\", 0)\n",
    "y = LpVariable(\"y\", 0)\n",
    "prob = LpProblem(\"Ejercicio 2\", LpMinimize)\n",
    "prob += 3*x + y <= 7\n",
    "prob += -x - y >= -3\n",
    "prob += -x - 2*y >= -5\n",
    "prob += -5*x - y"
   ]
  },
  {
   "cell_type": "code",
   "execution_count": 20,
   "metadata": {},
   "outputs": [
    {
     "data": {
      "text/plain": [
       "Ejercicio_2:\n",
       "MINIMIZE\n",
       "-5*x + -1*y + 0\n",
       "SUBJECT TO\n",
       "_C1: 3 x + y <= 7\n",
       "\n",
       "_C2: - x - y >= -3\n",
       "\n",
       "_C3: - x - 2 y >= -5\n",
       "\n",
       "VARIABLES\n",
       "x Continuous\n",
       "y Continuous"
      ]
     },
     "execution_count": 20,
     "metadata": {},
     "output_type": "execute_result"
    }
   ],
   "source": [
    "prob"
   ]
  },
  {
   "cell_type": "code",
   "execution_count": 21,
   "metadata": {},
   "outputs": [
    {
     "data": {
      "text/plain": [
       "(2.3333333, 0.0)"
      ]
     },
     "execution_count": 21,
     "metadata": {},
     "output_type": "execute_result"
    }
   ],
   "source": [
    "status = prob.solve()\n",
    "value(x), value(y)"
   ]
  },
  {
   "cell_type": "code",
   "execution_count": 22,
   "metadata": {},
   "outputs": [
    {
     "data": {
      "text/plain": [
       "(-11.6666665, 'Optimal')"
      ]
     },
     "execution_count": 22,
     "metadata": {},
     "output_type": "execute_result"
    }
   ],
   "source": [
    "value(prob.objective), LpStatus[prob.status]"
   ]
  },
  {
   "cell_type": "markdown",
   "metadata": {},
   "source": [
    "Ejercicio 3: Minimizar $x+4y$ \n",
    "sujeto a las restricciones: $x+y\\leq 7$, $x+y\\geq 5$, $x\\leq 4$, $-y\\geq -4$"
   ]
  },
  {
   "cell_type": "code",
   "execution_count": 27,
   "metadata": {},
   "outputs": [],
   "source": [
    "from pulp import *\n",
    "x = LpVariable(\"x\", 0)\n",
    "y = LpVariable(\"y\", 0)\n",
    "prob = LpProblem(\"Ejercicio 3\", LpMinimize)\n",
    "prob += x + y <= 7\n",
    "prob += x + y >= 5\n",
    "prob += x <= 4\n",
    "prob += -y >= -4\n",
    "prob += x + 4*y"
   ]
  },
  {
   "cell_type": "code",
   "execution_count": 28,
   "metadata": {},
   "outputs": [
    {
     "data": {
      "text/plain": [
       "Ejercicio_3:\n",
       "MINIMIZE\n",
       "1*x + 4*y + 0\n",
       "SUBJECT TO\n",
       "_C1: x + y <= 7\n",
       "\n",
       "_C2: x + y >= 5\n",
       "\n",
       "_C3: x <= 4\n",
       "\n",
       "_C4: - y >= -4\n",
       "\n",
       "VARIABLES\n",
       "x Continuous\n",
       "y Continuous"
      ]
     },
     "execution_count": 28,
     "metadata": {},
     "output_type": "execute_result"
    }
   ],
   "source": [
    "prob"
   ]
  },
  {
   "cell_type": "code",
   "execution_count": 30,
   "metadata": {},
   "outputs": [
    {
     "data": {
      "text/plain": [
       "(4.0, 1.0)"
      ]
     },
     "execution_count": 30,
     "metadata": {},
     "output_type": "execute_result"
    }
   ],
   "source": [
    "status = prob.solve()\n",
    "value(x), value(y)"
   ]
  },
  {
   "cell_type": "code",
   "execution_count": 31,
   "metadata": {},
   "outputs": [
    {
     "data": {
      "text/plain": [
       "(8.0, 'Optimal')"
      ]
     },
     "execution_count": 31,
     "metadata": {},
     "output_type": "execute_result"
    }
   ],
   "source": [
    "value(prob.objective), LpStatus[prob.status]"
   ]
  },
  {
   "cell_type": "markdown",
   "metadata": {},
   "source": [
    "Ejercicio 4: Maximizar $3x+4y$  sujeto a: $-x+y\\leq 2$, $y \\leq 4$"
   ]
  },
  {
   "cell_type": "code",
   "execution_count": 37,
   "metadata": {},
   "outputs": [],
   "source": [
    "from pulp import *\n",
    "x = LpVariable(\"x\", 0)\n",
    "y = LpVariable(\"y\", 0)\n",
    "prob = LpProblem(\"Ejercicio 4\", LpMinimize)\n",
    "prob += -x + y <= 2\n",
    "prob += y <= 4\n",
    "prob += 3*x + 4*y"
   ]
  },
  {
   "cell_type": "code",
   "execution_count": 38,
   "metadata": {},
   "outputs": [
    {
     "data": {
      "text/plain": [
       "Ejercicio_4:\n",
       "MINIMIZE\n",
       "3*x + 4*y + 0\n",
       "SUBJECT TO\n",
       "_C1: - x + y <= 2\n",
       "\n",
       "_C2: y <= 4\n",
       "\n",
       "VARIABLES\n",
       "x Continuous\n",
       "y Continuous"
      ]
     },
     "execution_count": 38,
     "metadata": {},
     "output_type": "execute_result"
    }
   ],
   "source": [
    "prob"
   ]
  },
  {
   "cell_type": "code",
   "execution_count": 39,
   "metadata": {},
   "outputs": [
    {
     "data": {
      "text/plain": [
       "(0.0, 0.0)"
      ]
     },
     "execution_count": 39,
     "metadata": {},
     "output_type": "execute_result"
    }
   ],
   "source": [
    "status = prob.solve()\n",
    "value(x), value(y)"
   ]
  },
  {
   "cell_type": "code",
   "execution_count": 40,
   "metadata": {},
   "outputs": [
    {
     "data": {
      "text/plain": [
       "(0.0, 'Optimal')"
      ]
     },
     "execution_count": 40,
     "metadata": {},
     "output_type": "execute_result"
    }
   ],
   "source": [
    "value(prob.objective), LpStatus[prob.status]"
   ]
  },
  {
   "cell_type": "markdown",
   "metadata": {},
   "source": [
    "Ejercicio 5: Maximizar $-3x+y$  sujeto a: $-x+y\\leq 2$, $y \\leq 4$"
   ]
  },
  {
   "cell_type": "code",
   "execution_count": 42,
   "metadata": {},
   "outputs": [],
   "source": [
    "from pulp import *\n",
    "x = LpVariable(\"x\", 0)\n",
    "y = LpVariable(\"y\", 0)\n",
    "prob = LpProblem(\"Ejercicio 5\", LpMinimize)\n",
    "prob += -x + y <= 2\n",
    "prob += y <= 4\n",
    "prob += -3*x + y"
   ]
  },
  {
   "cell_type": "code",
   "execution_count": 43,
   "metadata": {},
   "outputs": [
    {
     "data": {
      "text/plain": [
       "Ejercicio_5:\n",
       "MINIMIZE\n",
       "-3*x + 1*y + 0\n",
       "SUBJECT TO\n",
       "_C1: - x + y <= 2\n",
       "\n",
       "_C2: y <= 4\n",
       "\n",
       "VARIABLES\n",
       "x Continuous\n",
       "y Continuous"
      ]
     },
     "execution_count": 43,
     "metadata": {},
     "output_type": "execute_result"
    }
   ],
   "source": [
    "prob"
   ]
  },
  {
   "cell_type": "code",
   "execution_count": 46,
   "metadata": {},
   "outputs": [
    {
     "data": {
      "text/plain": [
       "(0.0, 0.0)"
      ]
     },
     "execution_count": 46,
     "metadata": {},
     "output_type": "execute_result"
    }
   ],
   "source": [
    "status = prob.solve()\n",
    "value(x), value(y)"
   ]
  },
  {
   "cell_type": "code",
   "execution_count": 47,
   "metadata": {},
   "outputs": [
    {
     "data": {
      "text/plain": [
       "(0.0, 'Unbounded')"
      ]
     },
     "execution_count": 47,
     "metadata": {},
     "output_type": "execute_result"
    }
   ],
   "source": [
    "value(prob.objective), LpStatus[prob.status]"
   ]
  },
  {
   "cell_type": "markdown",
   "metadata": {},
   "source": [
    "Ejercicio 6: Maximizar $x-2y$  sujeto a: $x+2y\\leq 2$, $-x-y \\leq -3$"
   ]
  },
  {
   "cell_type": "code",
   "execution_count": 48,
   "metadata": {},
   "outputs": [],
   "source": [
    "from pulp import *\n",
    "x = LpVariable(\"x\", 0)\n",
    "y = LpVariable(\"y\", 0)\n",
    "prob = LpProblem(\"Ejercicio 6\", LpMinimize)\n",
    "prob += x + 2*y <= 2\n",
    "prob += -x - y <= -3\n",
    "prob += -x - 2*y"
   ]
  },
  {
   "cell_type": "code",
   "execution_count": 49,
   "metadata": {},
   "outputs": [
    {
     "data": {
      "text/plain": [
       "Ejercicio_6:\n",
       "MINIMIZE\n",
       "-1*x + -2*y + 0\n",
       "SUBJECT TO\n",
       "_C1: x + 2 y <= 2\n",
       "\n",
       "_C2: - x - y <= -3\n",
       "\n",
       "VARIABLES\n",
       "x Continuous\n",
       "y Continuous"
      ]
     },
     "execution_count": 49,
     "metadata": {},
     "output_type": "execute_result"
    }
   ],
   "source": [
    "prob"
   ]
  },
  {
   "cell_type": "code",
   "execution_count": 50,
   "metadata": {},
   "outputs": [
    {
     "data": {
      "text/plain": [
       "(2.0, 0.0)"
      ]
     },
     "execution_count": 50,
     "metadata": {},
     "output_type": "execute_result"
    }
   ],
   "source": [
    "status = prob.solve()\n",
    "value(x), value(y)"
   ]
  },
  {
   "cell_type": "code",
   "execution_count": 51,
   "metadata": {},
   "outputs": [
    {
     "data": {
      "text/plain": [
       "(-2.0, 'Infeasible')"
      ]
     },
     "execution_count": 51,
     "metadata": {},
     "output_type": "execute_result"
    }
   ],
   "source": [
    "value(prob.objective), LpStatus[prob.status]"
   ]
  },
  {
   "cell_type": "code",
   "execution_count": null,
   "metadata": {},
   "outputs": [],
   "source": []
  }
 ],
 "metadata": {
  "kernelspec": {
   "display_name": "Python 3",
   "language": "python",
   "name": "python3"
  },
  "language_info": {
   "codemirror_mode": {
    "name": "ipython",
    "version": 3
   },
   "file_extension": ".py",
   "mimetype": "text/x-python",
   "name": "python",
   "nbconvert_exporter": "python",
   "pygments_lexer": "ipython3",
   "version": "3.7.4"
  }
 },
 "nbformat": 4,
 "nbformat_minor": 4
}
